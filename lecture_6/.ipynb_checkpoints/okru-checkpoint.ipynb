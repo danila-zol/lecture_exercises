{
 "cells": [
  {
   "cell_type": "code",
   "execution_count": 43,
   "id": "7613a212-cc04-47ba-b778-08ee2bbc499a",
   "metadata": {},
   "outputs": [],
   "source": [
    "class Human:\n",
    "    \n",
    "    def __init__(\n",
    "        self, \n",
    "        weight : float | int = 70,\n",
    "        height : float | int = 180,\n",
    "        name : str | None = None\n",
    "    ):\n",
    "        self.weight = weight\n",
    "        self.height = height\n",
    "        self.name = name\n",
    "    \n",
    "    def walk(self, speed : float = 1.0):\n",
    "        print(\"I walk at the speed of:\", speed)\n",
    "\n",
    "    def run(self, speed : float | int = 5.0):\n",
    "        if self.weight > 110:\n",
    "            print(\"I can't run\")\n",
    "        else:\n",
    "            print(\"I run\")\n",
    "\n",
    "    def breathe(self):\n",
    "        if self.height > 200:\n",
    "            print(\"Hard to breathe here on top\")\n",
    "        if sle.weight >= 180:\n",
    "            print(\"It's just hard to breathe\")\n",
    "        else:\n",
    "           print(\"I breathe\")\n",
    "\n"
   ]
  },
  {
   "cell_type": "code",
   "execution_count": 44,
   "id": "63c7e892-64e3-442c-8ca5-57117e00cded",
   "metadata": {},
   "outputs": [
    {
     "ename": "TypeError",
     "evalue": "Human.__init__() missing 3 required positional arguments: 'weight', 'height', and 'name'",
     "output_type": "error",
     "traceback": [
      "\u001b[1;31m---------------------------------------------------------------------------\u001b[0m",
      "\u001b[1;31mTypeError\u001b[0m                                 Traceback (most recent call last)",
      "Cell \u001b[1;32mIn[44], line 1\u001b[0m\n\u001b[1;32m----> 1\u001b[0m vova1 \u001b[38;5;241m=\u001b[39m \u001b[43mHuman\u001b[49m\u001b[43m(\u001b[49m\u001b[43m)\u001b[49m\n",
      "\u001b[1;31mTypeError\u001b[0m: Human.__init__() missing 3 required positional arguments: 'weight', 'height', and 'name'"
     ]
    }
   ],
   "source": [
    "vova1 = Human()"
   ]
  },
  {
   "cell_type": "code",
   "execution_count": 26,
   "id": "dd8562d6-1be8-4c4a-9285-21a9f04483ab",
   "metadata": {},
   "outputs": [
    {
     "name": "stdout",
     "output_type": "stream",
     "text": [
      "I walk at the speed of: 1.0\n"
     ]
    }
   ],
   "source": [
    "vova1.walk()"
   ]
  },
  {
   "cell_type": "code",
   "execution_count": 8,
   "id": "1d81a235-9e58-40ed-9117-42aeb0ff6c00",
   "metadata": {},
   "outputs": [
    {
     "name": "stdout",
     "output_type": "stream",
     "text": [
      "Nice\n"
     ]
    }
   ],
   "source": [
    "print(\"Nice\")"
   ]
  },
  {
   "cell_type": "code",
   "execution_count": 10,
   "id": "ee507d52-45a7-47c4-9ea6-b85e427904b9",
   "metadata": {},
   "outputs": [
    {
     "data": {
      "text/plain": [
       "80"
      ]
     },
     "execution_count": 10,
     "metadata": {},
     "output_type": "execute_result"
    }
   ],
   "source": [
    "vova1.weight"
   ]
  },
  {
   "cell_type": "code",
   "execution_count": 13,
   "id": "2990b7d8-5765-4521-8e1c-bf4be2eaf827",
   "metadata": {},
   "outputs": [],
   "source": [
    "vova1.name = \"Vova\""
   ]
  },
  {
   "cell_type": "code",
   "execution_count": 14,
   "id": "2efdc55f-d232-4fde-86c2-116000f2f0af",
   "metadata": {},
   "outputs": [
    {
     "data": {
      "text/plain": [
       "'Vova'"
      ]
     },
     "execution_count": 14,
     "metadata": {},
     "output_type": "execute_result"
    }
   ],
   "source": [
    "vova1.name"
   ]
  },
  {
   "cell_type": "code",
   "execution_count": 17,
   "id": "11088cf1-6811-4636-b34f-b4bc1312a68b",
   "metadata": {},
   "outputs": [
    {
     "name": "stdout",
     "output_type": "stream",
     "text": [
      "Nice\n"
     ]
    }
   ],
   "source": [
    "print(\"Nice\")"
   ]
  },
  {
   "cell_type": "code",
   "execution_count": 31,
   "id": "e5c72c82-c4b9-48f3-b0e1-dc4cfc898be1",
   "metadata": {},
   "outputs": [
    {
     "name": "stdout",
     "output_type": "stream",
     "text": [
      "I run\n"
     ]
    }
   ],
   "source": [
    "vova1.run()"
   ]
  },
  {
   "cell_type": "code",
   "execution_count": 39,
   "id": "e6dc1d60-14ea-4ed5-bd60-59f574d4a22c",
   "metadata": {},
   "outputs": [],
   "source": [
    "vova2 = Human(height = 90, weight = 220, name = \"Vova\")"
   ]
  },
  {
   "cell_type": "code",
   "execution_count": 40,
   "id": "51aff553-c2a9-442d-b6d5-06b48ffc0486",
   "metadata": {},
   "outputs": [
    {
     "name": "stdout",
     "output_type": "stream",
     "text": [
      "I can't run\n"
     ]
    }
   ],
   "source": [
    "vova2.run()"
   ]
  },
  {
   "cell_type": "code",
   "execution_count": 41,
   "id": "062c2789-776b-48c4-a906-9a57f83cd328",
   "metadata": {},
   "outputs": [
    {
     "name": "stdout",
     "output_type": "stream",
     "text": [
      "OK\n"
     ]
    }
   ],
   "source": [
    "print(\"OK\")"
   ]
  },
  {
   "cell_type": "code",
   "execution_count": 42,
   "id": "d6140cb6-30fc-4f1c-9926-a6161263442a",
   "metadata": {},
   "outputs": [
    {
     "data": {
      "text/plain": [
       "220"
      ]
     },
     "execution_count": 42,
     "metadata": {},
     "output_type": "execute_result"
    }
   ],
   "source": [
    "vova2.weight"
   ]
  },
  {
   "cell_type": "code",
   "execution_count": 45,
   "id": "2a683ee6-0921-456c-b3de-c25766c902ea",
   "metadata": {},
   "outputs": [
    {
     "data": {
      "text/plain": [
       "True"
      ]
     },
     "execution_count": 45,
     "metadata": {},
     "output_type": "execute_result"
    }
   ],
   "source": [
    "220 == 220"
   ]
  },
  {
   "cell_type": "code",
   "execution_count": 47,
   "id": "e1b4353b-e759-47f8-8dbd-264561c9a88c",
   "metadata": {},
   "outputs": [],
   "source": [
    "class HumanWorker(Human):\n",
    "    def work():\n",
    "        print(\"Work\")"
   ]
  },
  {
   "cell_type": "code",
   "execution_count": 48,
   "id": "02cf5bb8-bc2d-4d87-a3b8-a8fa8c3d21d1",
   "metadata": {},
   "outputs": [
    {
     "ename": "TypeError",
     "evalue": "Human.__init__() missing 3 required positional arguments: 'weight', 'height', and 'name'",
     "output_type": "error",
     "traceback": [
      "\u001b[1;31m---------------------------------------------------------------------------\u001b[0m",
      "\u001b[1;31mTypeError\u001b[0m                                 Traceback (most recent call last)",
      "Cell \u001b[1;32mIn[48], line 1\u001b[0m\n\u001b[1;32m----> 1\u001b[0m vova_worker \u001b[38;5;241m=\u001b[39m \u001b[43mHumanWorker\u001b[49m\u001b[43m(\u001b[49m\u001b[43m)\u001b[49m\n",
      "\u001b[1;31mTypeError\u001b[0m: Human.__init__() missing 3 required positional arguments: 'weight', 'height', and 'name'"
     ]
    }
   ],
   "source": [
    "vova_worker = HumanWorker()"
   ]
  },
  {
   "cell_type": "code",
   "execution_count": null,
   "id": "443f4813-24d9-4dec-857d-8d3789ebc2de",
   "metadata": {},
   "outputs": [],
   "source": []
  }
 ],
 "metadata": {
  "kernelspec": {
   "display_name": "Python 3 (ipykernel)",
   "language": "python",
   "name": "python3"
  },
  "language_info": {
   "codemirror_mode": {
    "name": "ipython",
    "version": 3
   },
   "file_extension": ".py",
   "mimetype": "text/x-python",
   "name": "python",
   "nbconvert_exporter": "python",
   "pygments_lexer": "ipython3",
   "version": "3.11.0"
  }
 },
 "nbformat": 4,
 "nbformat_minor": 5
}
