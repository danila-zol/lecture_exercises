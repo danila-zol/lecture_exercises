{
 "cells": [
  {
   "cell_type": "code",
   "execution_count": 80,
   "id": "cb69c74f-4b23-4907-a05f-5c46ab339e2f",
   "metadata": {},
   "outputs": [],
   "source": [
    "class Charecter():\n",
    "    strength = 10\n",
    "    agility = 10\n",
    "    intellect = 10\n",
    "    speed = agility * 0.5\n",
    "    damage = strength * agility\n",
    "\n",
    "    def trade(self):\n",
    "        money = self.intellect * self.strength * 0.5\n",
    "        print(\"Наторговал на {money}\")\n",
    "        if money < 10:\n",
    "            print(\"Обманули меня кажется...\")\n",
    "\n",
    "    def wait(self):\n",
    "        print(\"Ждууу\")\n",
    "\n",
    "    def think(self):\n",
    "        print(\"Думаююю\")\n",
    "        if self.intellect < 10:\n",
    "            print(\"Голова заболела\")\n",
    "        else:\n",
    "            print(\"Придумал\")\n",
    "\n",
    "    def move(self):\n",
    "        print(\"Иду\")\n",
    "        if self.speed < 10:\n",
    "            print(\"Медленно.\")\n",
    "        else:\n",
    "            print(\"Быстро.\")"
   ]
  },
  {
   "cell_type": "code",
   "execution_count": 81,
   "id": "a5bccb4a-85ed-42b6-ac19-2c4be2dcb0b3",
   "metadata": {},
   "outputs": [],
   "source": [
    "class Villain(Charecter):\n",
    "    strength = 5\n",
    "    agility = 8\n",
    "    intellect = 15\n",
    "    speed = 13"
   ]
  },
  {
   "cell_type": "code",
   "execution_count": 82,
   "id": "30b9bc86-ecc4-4a02-90d7-b2b3ae821292",
   "metadata": {},
   "outputs": [],
   "source": [
    "class Hero(Charecter):\n",
    "    strength = 20\n",
    "    agility = 10\n",
    "    intellect = 5\n",
    "\n",
    "    def fight_boss(self, name : str):\n",
    "        if (self.strength + self.agility >= 10):\n",
    "            print(f\"Побеждён: {name}\")\n",
    "        else:\n",
    "            print(\"Умер\")"
   ]
  },
  {
   "cell_type": "code",
   "execution_count": 83,
   "id": "55cff354-3c16-44b6-97b3-35fbce32a3c9",
   "metadata": {},
   "outputs": [],
   "source": [
    "class Vova(Hero):\n",
    "    def eat_potato(self):\n",
    "        print(\"Поел\")"
   ]
  },
  {
   "cell_type": "code",
   "execution_count": 84,
   "id": "9cffea3a-ed32-41d9-82b6-063214ea10fb",
   "metadata": {},
   "outputs": [],
   "source": [
    "class Avova(Villain):\n",
    "    def eat_noodles(self):\n",
    "        print(\"Поел (зло...)\")"
   ]
  },
  {
   "cell_type": "code",
   "execution_count": 85,
   "id": "0116ea1c-96f7-4636-898a-1f17ffbb844b",
   "metadata": {},
   "outputs": [],
   "source": [
    "vova = Vova()\n",
    "avova = Avova()"
   ]
  },
  {
   "cell_type": "code",
   "execution_count": 86,
   "id": "7fdb90eb-001f-4449-b107-934a8460f47a",
   "metadata": {},
   "outputs": [
    {
     "name": "stdout",
     "output_type": "stream",
     "text": [
      "Иду\n",
      "Медленно.\n",
      "Иду\n",
      "Быстро.\n",
      "Думаююю\n",
      "Голова заболела\n",
      "Думаююю\n",
      "Придумал\n",
      "Побеждён: {name}\n",
      "Поел\n",
      "Поел (зло...)\n"
     ]
    }
   ],
   "source": [
    "vova.move()\n",
    "avova.move()\n",
    "vova.think()\n",
    "avova.think()\n",
    "vova.fight_boss(\"Дрогкс Кровавый\")\n",
    "vova.eat_potato()\n",
    "avova.eat_noodles()"
   ]
  }
 ],
 "metadata": {
  "kernelspec": {
   "display_name": "Python 3 (ipykernel)",
   "language": "python",
   "name": "python3"
  },
  "language_info": {
   "codemirror_mode": {
    "name": "ipython",
    "version": 3
   },
   "file_extension": ".py",
   "mimetype": "text/x-python",
   "name": "python",
   "nbconvert_exporter": "python",
   "pygments_lexer": "ipython3",
   "version": "3.11.0"
  }
 },
 "nbformat": 4,
 "nbformat_minor": 5
}
