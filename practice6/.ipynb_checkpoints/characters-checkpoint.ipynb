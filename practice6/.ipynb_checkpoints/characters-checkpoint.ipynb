{
 "cells": [
  {
   "cell_type": "code",
   "execution_count": 61,
   "id": "cb69c74f-4b23-4907-a05f-5c46ab339e2f",
   "metadata": {},
   "outputs": [],
   "source": [
    "class Charecter():\n",
    "    strength = 10\n",
    "    agility = 10\n",
    "    intellect = 10\n",
    "    speed = agility * 0.5\n",
    "    damage = strength * agility\n",
    "\n",
    "    def trade(self):\n",
    "        money = self.intellect * self.strength * 0.5\n",
    "        print(\"Наторговал на {money}\")\n",
    "        if money < 10:\n",
    "            print(\"Обманули меня кажется...\")\n",
    "\n",
    "    def wait(self):\n",
    "        print(\"Ждууу\")\n",
    "\n",
    "    def think(self):\n",
    "        print(\"Думаююю\")\n",
    "        if self.intellect < 10:\n",
    "            print(\"Голова заболела\")\n",
    "        else:\n",
    "            print(\"Придумал\")\n",
    "\n",
    "    def move(self):\n",
    "        print(\"Иду\")\n",
    "        if self.speed < 10:\n",
    "            print(\"Медленно.\")\n",
    "        else:\n",
    "            print(\"Быстро.\")"
   ]
  },
  {
   "cell_type": "code",
   "execution_count": 62,
   "id": "a5bccb4a-85ed-42b6-ac19-2c4be2dcb0b3",
   "metadata": {},
   "outputs": [],
   "source": [
    "class Villain(Charecter):\n",
    "    strength = 5\n",
    "    agility = 8\n",
    "    intellect = 15\n",
    "    speed = 13"
   ]
  },
  {
   "cell_type": "code",
   "execution_count": 67,
   "id": "30b9bc86-ecc4-4a02-90d7-b2b3ae821292",
   "metadata": {},
   "outputs": [],
   "source": [
    "class Hero(Charecter):\n",
    "    strength = 20\n",
    "    agility = 10\n",
    "    intellect = 5\n",
    "\n",
    "    def fight_boss(self):\n",
    "        if (self.strength + self.agility >= 10):\n",
    "            print(\"Победа!\")\n",
    "        else:\n",
    "            print(\"Умер\")"
   ]
  },
  {
   "cell_type": "code",
   "execution_count": 68,
   "id": "0116ea1c-96f7-4636-898a-1f17ffbb844b",
   "metadata": {},
   "outputs": [],
   "source": [
    "vova = Hero()\n",
    "avova = Villain()"
   ]
  },
  {
   "cell_type": "code",
   "execution_count": 69,
   "id": "7fdb90eb-001f-4449-b107-934a8460f47a",
   "metadata": {},
   "outputs": [
    {
     "name": "stdout",
     "output_type": "stream",
     "text": [
      "Иду\n",
      "Медленно.\n",
      "Иду\n",
      "Быстро.\n",
      "Думаююю\n",
      "Голова заболела\n",
      "Думаююю\n",
      "Придумал\n",
      "Победа!\n"
     ]
    }
   ],
   "source": [
    "vova.move()\n",
    "avova.move()\n",
    "vova.think()\n",
    "avova.think()\n",
    "vova.fight_boss()"
   ]
  }
 ],
 "metadata": {
  "kernelspec": {
   "display_name": "Python 3 (ipykernel)",
   "language": "python",
   "name": "python3"
  },
  "language_info": {
   "codemirror_mode": {
    "name": "ipython",
    "version": 3
   },
   "file_extension": ".py",
   "mimetype": "text/x-python",
   "name": "python",
   "nbconvert_exporter": "python",
   "pygments_lexer": "ipython3",
   "version": "3.11.0"
  }
 },
 "nbformat": 4,
 "nbformat_minor": 5
}
