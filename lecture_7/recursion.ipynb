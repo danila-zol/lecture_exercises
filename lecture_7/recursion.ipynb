{
 "cells": [
  {
   "cell_type": "code",
   "execution_count": 26,
   "metadata": {},
   "outputs": [],
   "source": [
    "tree = {\n",
    "    1 : {\n",
    "        1 : \"text\",\n",
    "        2 : \"text\",\n",
    "        3 : \"text\"\n",
    "    },\n",
    "    2 : {\n",
    "        1 : {\n",
    "            1 : {\n",
    "                1: {\n",
    "                    1 : \"folder\",\n",
    "                    2 : \"folder\",\n",
    "                    3 : \"target_folder\"\n",
    "                },\n",
    "                2 : [1, 2, 3]\n",
    "            }\n",
    "        }\n",
    "    }\n",
    "}"
   ]
  },
  {
   "cell_type": "code",
   "execution_count": 27,
   "metadata": {},
   "outputs": [
    {
     "data": {
      "text/plain": [
       "{1: {1: 'text', 2: 'text', 3: 'text'},\n",
       " 2: {1: {1: {1: {1: 'folder', 2: 'folder', 3: 'target_folder'},\n",
       "    2: [1, 2, 3]}}}}"
      ]
     },
     "execution_count": 27,
     "metadata": {},
     "output_type": "execute_result"
    }
   ],
   "source": [
    "tree"
   ]
  },
  {
   "cell_type": "code",
   "execution_count": 39,
   "metadata": {},
   "outputs": [],
   "source": [
    "def req_find(tree : dict, desired_el : str | int | float) -> True | False:\n",
    "\n",
    "    for k, v in tree.items():\n",
    "        if isinstance(v, dict):\n",
    "            if req_find(v, desired_el):\n",
    "                return True\n",
    "        elif isinstance(v, list):\n",
    "            for e in v:\n",
    "                if e == desired_el:\n",
    "                    return True\n",
    "        elif v == desired_el:\n",
    "            return True    \n",
    "\n",
    "        return False"
   ]
  },
  {
   "cell_type": "code",
   "execution_count": 40,
   "metadata": {},
   "outputs": [
    {
     "name": "stdout",
     "output_type": "stream",
     "text": [
      "False\n"
     ]
    }
   ],
   "source": [
    "print(req_find(tree, \"target_folder\"))"
   ]
  },
  {
   "cell_type": "code",
   "execution_count": null,
   "metadata": {},
   "outputs": [],
   "source": []
  },
  {
   "cell_type": "code",
   "execution_count": null,
   "metadata": {},
   "outputs": [],
   "source": []
  }
 ],
 "metadata": {
  "kernelspec": {
   "display_name": "Python 3 (ipykernel)",
   "language": "python",
   "name": "python3"
  },
  "language_info": {
   "codemirror_mode": {
    "name": "ipython",
    "version": 3
   },
   "file_extension": ".py",
   "mimetype": "text/x-python",
   "name": "python",
   "nbconvert_exporter": "python",
   "pygments_lexer": "ipython3",
   "version": "3.11.0"
  }
 },
 "nbformat": 4,
 "nbformat_minor": 4
}
