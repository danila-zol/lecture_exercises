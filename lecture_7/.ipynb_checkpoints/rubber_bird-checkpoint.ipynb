{
 "cells": [
  {
   "cell_type": "code",
   "execution_count": 42,
   "id": "5cb447af-3c82-4b78-95b7-07425ac860d6",
   "metadata": {},
   "outputs": [],
   "source": [
    "class BaseBird():\n",
    "    wings_length : float = 12.3\n",
    "    legs_length : float = 3.5\n",
    "    color : str = \"red\"\n",
    "    \n",
    "    def swim(self):\n",
    "        print(\"I swim\")\n",
    "    \n",
    "\n",
    "class Bird(MixinFlyable, MixinWalkable, MixinTalkable):\n",
    "    def __init__(\n",
    "        self,\n",
    "        wings_length : float = 12.3,\n",
    "        legs_length : float = 3.5,\n",
    "        color : str = \"red\"\n",
    "    ):\n",
    "        self.wings_length = wings_length\n",
    "        self.legs_length = legs_length\n",
    "        self.color = color\n",
    "        print(\"Bird Initializaed\")\n",
    "\n",
    "class RubberToy:\n",
    "\n",
    "    def __init__(self, toxic, size_cm3, color):\n",
    "        self.toxic = toxic\n",
    "        self.size_cm3 = size_cm3\n",
    "        self.color = color\n",
    "        print(\"Rubber toy initialized\")\n",
    "\n",
    "    def deform(self):\n",
    "        print(\"It's morphing time!\")\n",
    "\n",
    "    def squeak(self):\n",
    "        print(\"SQUEAK!\")\n",
    "        \n",
    "    def bounce(self):\n",
    "        print(\"Bjo-o-o-ong!\")\n",
    "\n",
    "class RubberBird(RubberToy, BaseBird):\n",
    "    pass"
   ]
  },
  {
   "cell_type": "code",
   "execution_count": 43,
   "id": "ca2df036-e5d2-44b9-b4b9-ea075bbd8bec",
   "metadata": {},
   "outputs": [
    {
     "name": "stdout",
     "output_type": "stream",
     "text": [
      "Rubber toy initialized\n",
      "I am not real, I can't fly :c\n",
      "It's morphing time!\n"
     ]
    },
    {
     "data": {
      "text/plain": [
       "12.3"
      ]
     },
     "execution_count": 43,
     "metadata": {},
     "output_type": "execute_result"
    }
   ],
   "source": [
    "rub_bird1 = RubberBird(True, 10, \"green\")\n",
    "try:\n",
    "    rub_bird1.fly()\n",
    "except AttributeError:\n",
    "    print(\"I am not real, I can't fly :c\")\n",
    "rub_bird1.deform()\n",
    "rub_bird1.wings_length"
   ]
  },
  {
   "cell_type": "code",
   "execution_count": 31,
   "id": "854ce268-c8a6-41c8-b902-03ab14447ae0",
   "metadata": {},
   "outputs": [],
   "source": [
    "class MixinFlyable():\n",
    "\n",
    "    def fly(self):\n",
    "        print(\"I fly\")\n",
    "\n",
    "class MixinWalkable:\n",
    "    def walk(self):\n",
    "        print(\"I walk\")\n",
    "\n",
    "\n",
    "class MixinTalkable:\n",
    "    def make_noise(self):\n",
    "        print(\"Tweet\")"
   ]
  },
  {
   "cell_type": "code",
   "execution_count": null,
   "id": "754b73eb-42ca-4079-b6e8-9243f34f3cad",
   "metadata": {},
   "outputs": [],
   "source": []
  }
 ],
 "metadata": {
  "kernelspec": {
   "display_name": "Python 3 (ipykernel)",
   "language": "python",
   "name": "python3"
  },
  "language_info": {
   "codemirror_mode": {
    "name": "ipython",
    "version": 3
   },
   "file_extension": ".py",
   "mimetype": "text/x-python",
   "name": "python",
   "nbconvert_exporter": "python",
   "pygments_lexer": "ipython3",
   "version": "3.11.0"
  }
 },
 "nbformat": 4,
 "nbformat_minor": 5
}
