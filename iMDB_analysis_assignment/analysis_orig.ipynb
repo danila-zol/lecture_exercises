{
 "cells": [
  {
   "cell_type": "code",
   "execution_count": 4,
   "metadata": {},
   "outputs": [
    {
     "name": "stdout",
     "output_type": "stream",
     "text": [
      "Hello, Cruel World!\n"
     ]
    }
   ],
   "source": [
    "print(\"Hello, Cruel World!\")"
   ]
  },
  {
   "cell_type": "code",
   "execution_count": 5,
   "metadata": {},
   "outputs": [],
   "source": [
    "from nltk.tokenize import word_tokenize\n",
    "from nltk.corpus import stopwords\n",
    "from nltk.stem import WordNetLemmatizer\n",
    "import pandas as pd\n",
    "import numpy as np\n",
    "import re"
   ]
  },
  {
   "cell_type": "code",
   "execution_count": 6,
   "metadata": {},
   "outputs": [],
   "source": [
    "data = pd.read_csv(\"./IMDB Dataset.csv\")"
   ]
  },
  {
   "cell_type": "code",
   "execution_count": 7,
   "metadata": {},
   "outputs": [],
   "source": [
    "rm_quoted = re.compile(r\"\\\".*?\\\"\")"
   ]
  },
  {
   "cell_type": "code",
   "execution_count": 8,
   "metadata": {},
   "outputs": [],
   "source": [
    "reviews_tok_arr = []\n",
    "reviews_lem_arr = []\n",
    "arrStopwords = stopwords.words(\"english\")\n",
    "arrStopwords.extend([\"br\", \"<br>\", \"<br />\"])\n",
    "\n",
    "wnl = WordNetLemmatizer()\n",
    "\n",
    "for r in data.iterrows():\n",
    "    rev = r[1][\"review\"]\n",
    "\n",
    "    rev_no_quotes = re.sub(rm_quoted, \"\", rev)\n",
    "    rev_tok = word_tokenize(rev_no_quotes)\n",
    "    rev_tok = [w.lower() for w in rev_tok]\n",
    "\n",
    "    rev_tok_filtered = [w for w in rev_tok if not w in arrStopwords]\n",
    "    rev_tok_filtered = [w for w in rev_tok_filtered if w.isalpha()]\n",
    "\n",
    "    rev_tok_lemmatized = [wnl.lemmatize(w) for w in rev_tok_filtered]\n",
    "\n",
    "    reviews_tok_arr.append(rev_tok_filtered)\n",
    "    reviews_lem_arr.append(rev_tok_lemmatized)"
   ]
  },
  {
   "cell_type": "code",
   "execution_count": 11,
   "metadata": {},
   "outputs": [
    {
     "data": {
      "text/plain": [
       "False"
      ]
     },
     "execution_count": 11,
     "metadata": {},
     "output_type": "execute_result"
    }
   ],
   "source": [
    "reviews_tok_arr[0] == reviews_lem_arr[0]"
   ]
  },
  {
   "cell_type": "code",
   "execution_count": 15,
   "metadata": {},
   "outputs": [
    {
     "name": "stdout",
     "output_type": "stream",
     "text": [
      "reviewers - reviewer\n",
      "scenes - scene\n",
      "pulls - pull\n",
      "punches - punch\n",
      "regards - regard\n",
      "drugs - drug\n",
      "focuses - focus\n",
      "cells - cell\n",
      "fronts - front\n",
      "aryans - aryan\n",
      "muslims - muslim\n",
      "gangstas - gangsta\n",
      "latinos - latino\n",
      "christians - christian\n",
      "italians - italian\n",
      "scuffles - scuffle\n",
      "stares - stare\n",
      "dealings - dealing\n",
      "agreements - agreement\n",
      "goes - go\n",
      "shows - show\n",
      "pictures - picture\n",
      "audiences - audience\n",
      "levels - level\n",
      "guards - guard\n",
      "inmates - inmate\n",
      "inmates - inmate\n",
      "bitches - bitch\n",
      "skills - skill\n"
     ]
    }
   ],
   "source": [
    "for w in reviews_tok_arr[0]:\n",
    "    if w not in reviews_lem_arr[0]:\n",
    "        print(f\"{w} - {reviews_lem_arr[0][(reviews_tok_arr[0].index(w))]}\")"
   ]
  },
  {
   "cell_type": "code",
   "execution_count": null,
   "metadata": {},
   "outputs": [],
   "source": []
  }
 ],
 "metadata": {
  "kernelspec": {
   "display_name": "Python 3",
   "language": "python",
   "name": "python3"
  },
  "language_info": {
   "codemirror_mode": {
    "name": "ipython",
    "version": 3
   },
   "file_extension": ".py",
   "mimetype": "text/x-python",
   "name": "python",
   "nbconvert_exporter": "python",
   "pygments_lexer": "ipython3",
   "version": "3.11.0"
  }
 },
 "nbformat": 4,
 "nbformat_minor": 2
}
