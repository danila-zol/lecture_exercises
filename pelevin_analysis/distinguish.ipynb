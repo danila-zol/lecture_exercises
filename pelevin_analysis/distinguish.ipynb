{
 "cells": [
  {
   "cell_type": "code",
   "execution_count": 23,
   "id": "ed7edeb6-f889-41ed-b731-94d5866b0d04",
   "metadata": {},
   "outputs": [],
   "source": [
    "import pandas as pd\n",
    "from nltk.tokenize import sent_tokenize, word_tokenize\n",
    "from nltk.corpus import stopwords\n",
    "from nltk.probability import FreqDist\n",
    "import nltk\n",
    "from pathlib import Path\n",
    "from sklearn.metrics import accuracy_score\n",
    "from sklearn.model_selection import train_test_split"
   ]
  },
  {
   "cell_type": "code",
   "execution_count": 24,
   "id": "a78f6f95-92f7-4952-a6fd-c1c01addeb36",
   "metadata": {},
   "outputs": [
    {
     "name": "stderr",
     "output_type": "stream",
     "text": [
      "[nltk_data] Downloading package punkt to /home/happy_moss/nltk_data...\n",
      "[nltk_data]   Package punkt is already up-to-date!\n"
     ]
    },
    {
     "data": {
      "text/plain": [
       "True"
      ]
     },
     "execution_count": 24,
     "metadata": {},
     "output_type": "execute_result"
    }
   ],
   "source": [
    "nltk.download(\"punkt\")"
   ]
  },
  {
   "cell_type": "markdown",
   "id": "ea16596d-f301-4a3e-b96a-04e8fd1f73ae",
   "metadata": {},
   "source": [
    "Я буду разделять книги написанные Виктором Пелевиным и Антоном Чеховым используя метод сравнения корпуса текстов Килгриффа. В кратце он заключается в этом: мы объединяем корпус слов возможного автора с некласифицированным корпусом, вычисляем проецированный вклад и реальный вклад автора в корпус, а далее хи-квадрат между этими значениями и суммируем се для каждого слова. Автор с наименьшим отклонением является наиболее вероятным.\n",
    "\n",
    "_Публикация описывающая алгоритм: https://www.kilgarriff.co.uk/Publications/2001-K-CompCorpIJCL.pdf_"
   ]
  },
  {
   "cell_type": "markdown",
   "id": "38e6fc3d",
   "metadata": {},
   "source": [
    "Для начала загрузим датасет"
   ]
  },
  {
   "cell_type": "code",
   "execution_count": 25,
   "id": "b219a64a-b421-4e1b-a30f-5afb24230ca5",
   "metadata": {},
   "outputs": [],
   "source": [
    "p = Path(\"./\")\n",
    "book_paths = p.glob(\"**/*.txt\")\n",
    "books = []\n",
    "for bp in book_paths:\n",
    "    books.append((bp.read_text(encoding=\"utf-8-sig\"), \"Pelevin\" if bp.parent == Path(\"./books/Pelevin\") else \"Chekhov\"))"
   ]
  },
  {
   "cell_type": "code",
   "execution_count": 26,
   "id": "551a38d6",
   "metadata": {},
   "outputs": [],
   "source": [
    "books_df = pd.DataFrame(columns=[\"book_text\", \"author\"], data=books)"
   ]
  },
  {
   "cell_type": "markdown",
   "id": "cb69193f",
   "metadata": {},
   "source": [
    "Можно взять часть датасета, но я использую новые данные для тестов: полный текста \"Архиерея\", первую главу \"Transhumanism Inc.\", последнее действие \"Вишневого Сада\", третью главу \"Тайные виды на гору Фудзи\""
   ]
  },
  {
   "cell_type": "code",
   "execution_count": 27,
   "id": "1f0d68b9",
   "metadata": {},
   "outputs": [],
   "source": [
    "from distinguish_test_data import test_data\n",
    "test_data_df = pd.DataFrame(columns=[\"text\", \"author\"], data=test_data)"
   ]
  },
  {
   "cell_type": "code",
   "execution_count": 28,
   "id": "6f006927",
   "metadata": {},
   "outputs": [],
   "source": [
    "X_train = books_df[\"book_text\"]\n",
    "y_train = books_df[\"author\"]\n",
    "X_test = test_data_df[\"text\"]\n",
    "y_test = test_data_df[\"author\"]"
   ]
  },
  {
   "cell_type": "code",
   "execution_count": 29,
   "id": "9e7d078e",
   "metadata": {},
   "outputs": [],
   "source": [
    "def text_tokenize(t):\n",
    "    \n",
    "    stopwords_ru = stopwords.words(\"russian\")\n",
    "    stopwords_ru.extend([\"это\"])\n",
    "\n",
    "    tokenized_text = [\n",
    "        w for w in word_tokenize(t.lower())\n",
    "        if ((not w in stopwords_ru) and (w.isalpha()))\n",
    "    ]\n",
    "\n",
    "    return tokenized_text"
   ]
  },
  {
   "cell_type": "markdown",
   "id": "090d008a",
   "metadata": {},
   "source": [
    "Класс который имплементирует алгоритм описанный в статье"
   ]
  },
  {
   "cell_type": "code",
   "execution_count": 30,
   "id": "0f34e5e9",
   "metadata": {},
   "outputs": [],
   "source": [
    "class KilgariffCC:\n",
    "    def __init__(self, X, y):\n",
    "        assert len(X) == len(y)\n",
    "\n",
    "        self.tok_dicts = {}\n",
    "        for t in zip(X, y):\n",
    "            if self.tok_dicts.get(t[1]) is None:\n",
    "                self.tok_dicts[t[1]] = []\n",
    "            \n",
    "            if len(self.tok_dicts[t[1]]) >= 150000:\n",
    "                continue\n",
    "\n",
    "            self.tok_dicts[t[1]].extend(text_tokenize(t[0]))\n",
    "\n",
    "\n",
    "\n",
    "    def predict(self, uncategorized_texts):\n",
    "\n",
    "        predictions = []\n",
    "\n",
    "        for uncategorized_text in uncategorized_texts:\n",
    "            uncategorized_tok = text_tokenize(uncategorized_text)\n",
    "\n",
    "            authors_chi = {}\n",
    "            for author in self.tok_dicts.keys():\n",
    "                joint_tokens = uncategorized_tok + self.tok_dicts[author]\n",
    "\n",
    "                joint_freq_dist = FreqDist(joint_tokens)\n",
    "                joint_most_common_tok = joint_freq_dist.most_common(1000)\n",
    "                \n",
    "                author_share = (len(self.tok_dicts[author]) / len(joint_tokens))\n",
    "                \n",
    "                chisquared = 0\n",
    "                for word,joint_count in joint_most_common_tok:\n",
    "\n",
    "                    author_count = self.tok_dicts[author].count(word)\n",
    "                    disputed_count = uncategorized_tok.count(word)\n",
    "\n",
    "                    expected_author_count = joint_count * author_share\n",
    "                    expected_disputed_count = joint_count * (1-author_share)\n",
    "\n",
    "                    chisquared += ((author_count-expected_author_count) *\n",
    "                                (author_count-expected_author_count) /\n",
    "                                expected_author_count)\n",
    "\n",
    "                    chisquared += ((disputed_count-expected_disputed_count) *\n",
    "                                (disputed_count-expected_disputed_count)\n",
    "                                / expected_disputed_count)\n",
    "                    \n",
    "                authors_chi[author] = chisquared\n",
    "            \n",
    "            lowest_chi = list(authors_chi.values())[0]\n",
    "            probable_author = 0\n",
    "            for author, chi in authors_chi.items():\n",
    "                if chi <= lowest_chi:\n",
    "                    lowest_chi = chi\n",
    "                    probable_author = author\n",
    "\n",
    "            predictions.append(probable_author)\n",
    "\n",
    "        return predictions"
   ]
  },
  {
   "cell_type": "code",
   "execution_count": null,
   "id": "0c91a9c5",
   "metadata": {},
   "outputs": [],
   "source": [
    "kcc = KilgariffCC(X_train, y_train)"
   ]
  },
  {
   "cell_type": "code",
   "execution_count": null,
   "id": "28a754ef",
   "metadata": {},
   "outputs": [],
   "source": [
    "pred = kcc.predict(X_test)"
   ]
  },
  {
   "cell_type": "markdown",
   "id": "3f9de045",
   "metadata": {},
   "source": [
    "В данном случае точность 100%. Это хороший определения авторства, однако его точность падает с уменьшением длинны неопределённого текста или если корпус одного из авторов значительно больше других. Проблему №2  мы митигируем используя примерно равное количество токенов обоих авторов в данном случае, однко пробема №1 нам не подвалстна."
   ]
  },
  {
   "cell_type": "code",
   "execution_count": null,
   "id": "57da608c",
   "metadata": {},
   "outputs": [],
   "source": [
    "accuracy_score(y_true=y_test, y_pred=pred)"
   ]
  },
  {
   "cell_type": "markdown",
   "id": "43429143",
   "metadata": {},
   "source": [
    "Если взять кластеры по 613 предложений из датасета и запускать предсакзания на них, то точность составит уже около 90% и так далее она будет снижаться по мере уменьшения входного корпуса."
   ]
  },
  {
   "cell_type": "code",
   "execution_count": null,
   "id": "42fb8e96-397e-40fc-b287-b545458d12ea",
   "metadata": {},
   "outputs": [],
   "source": [
    "book_sents = []\n",
    "for b in books:\n",
    "    n = 0\n",
    "    sent_cluster = \"\"\n",
    "    for s in sent_tokenize(b[0], language=\"russian\"):\n",
    "        if n != 613 and len(s) != 0:\n",
    "            sent_cluster = sent_cluster + s\n",
    "            n += 1\n",
    "        else:\n",
    "            book_sents.append((sent_cluster, b[1]))\n",
    "            sent_cluster = \"\"\n",
    "            n = 0"
   ]
  },
  {
   "cell_type": "code",
   "execution_count": null,
   "id": "cc54506a",
   "metadata": {},
   "outputs": [],
   "source": [
    "book_sents_df = pd.DataFrame(columns=[\"sentances\", \"author\"], data=book_sents)"
   ]
  },
  {
   "cell_type": "code",
   "execution_count": null,
   "id": "f894b147",
   "metadata": {},
   "outputs": [],
   "source": [
    "X_train, X_test, y_train, y_test = train_test_split(\n",
    "    book_sents_df[\"sentances\"],\n",
    "    book_sents_df[\"author\"],\n",
    "    test_size=0.2,\n",
    "    random_state=587)"
   ]
  },
  {
   "cell_type": "code",
   "execution_count": null,
   "id": "e89d0f3c",
   "metadata": {},
   "outputs": [],
   "source": [
    "kcc = KilgariffCC(X_train, y_train)"
   ]
  },
  {
   "cell_type": "code",
   "execution_count": null,
   "id": "b18d7a6c",
   "metadata": {},
   "outputs": [],
   "source": [
    "pred = kcc.predict(X_test)"
   ]
  },
  {
   "cell_type": "code",
   "execution_count": null,
   "id": "4e55f91b",
   "metadata": {},
   "outputs": [],
   "source": [
    "accuracy_score(y_true=y_test, y_pred=pred)"
   ]
  }
 ],
 "metadata": {
  "kernelspec": {
   "display_name": "Python 3 (ipykernel)",
   "language": "python",
   "name": "python3"
  },
  "language_info": {
   "codemirror_mode": {
    "name": "ipython",
    "version": 3
   },
   "file_extension": ".py",
   "mimetype": "text/x-python",
   "name": "python",
   "nbconvert_exporter": "python",
   "pygments_lexer": "ipython3",
   "version": "3.10.12"
  }
 },
 "nbformat": 4,
 "nbformat_minor": 5
}
