{
 "cells": [
  {
   "cell_type": "code",
   "execution_count": 107,
   "metadata": {},
   "outputs": [
    {
     "name": "stdout",
     "output_type": "stream",
     "text": [
      "Requirement already satisfied: numpy in c:\\python311\\lib\\site-packages (1.26.0)\n",
      "Requirement already satisfied: scikit-learn in c:\\python311\\lib\\site-packages (1.3.2)\n",
      "Requirement already satisfied: spacy in c:\\users\\danil\\appdata\\roaming\\python\\python311\\site-packages (3.7.1)\n",
      "Requirement already satisfied: scipy>=1.5.0 in c:\\python311\\lib\\site-packages (from scikit-learn) (1.11.3)\n",
      "Requirement already satisfied: joblib>=1.1.1 in c:\\users\\danil\\appdata\\roaming\\python\\python311\\site-packages (from scikit-learn) (1.3.2)\n",
      "Requirement already satisfied: threadpoolctl>=2.0.0 in c:\\python311\\lib\\site-packages (from scikit-learn) (3.2.0)\n",
      "Requirement already satisfied: spacy-legacy<3.1.0,>=3.0.11 in c:\\users\\danil\\appdata\\roaming\\python\\python311\\site-packages (from spacy) (3.0.12)\n",
      "Requirement already satisfied: spacy-loggers<2.0.0,>=1.0.0 in c:\\users\\danil\\appdata\\roaming\\python\\python311\\site-packages (from spacy) (1.0.5)\n",
      "Requirement already satisfied: murmurhash<1.1.0,>=0.28.0 in c:\\users\\danil\\appdata\\roaming\\python\\python311\\site-packages (from spacy) (1.0.10)\n",
      "Requirement already satisfied: cymem<2.1.0,>=2.0.2 in c:\\users\\danil\\appdata\\roaming\\python\\python311\\site-packages (from spacy) (2.0.8)\n",
      "Requirement already satisfied: preshed<3.1.0,>=3.0.2 in c:\\users\\danil\\appdata\\roaming\\python\\python311\\site-packages (from spacy) (3.0.9)\n",
      "Requirement already satisfied: thinc<8.3.0,>=8.1.8 in c:\\users\\danil\\appdata\\roaming\\python\\python311\\site-packages (from spacy) (8.2.1)\n",
      "Requirement already satisfied: wasabi<1.2.0,>=0.9.1 in c:\\users\\danil\\appdata\\roaming\\python\\python311\\site-packages (from spacy) (1.1.2)\n",
      "Requirement already satisfied: srsly<3.0.0,>=2.4.3 in c:\\users\\danil\\appdata\\roaming\\python\\python311\\site-packages (from spacy) (2.4.8)\n",
      "Requirement already satisfied: catalogue<2.1.0,>=2.0.6 in c:\\users\\danil\\appdata\\roaming\\python\\python311\\site-packages (from spacy) (2.0.10)\n",
      "Requirement already satisfied: weasel<0.4.0,>=0.1.0 in c:\\users\\danil\\appdata\\roaming\\python\\python311\\site-packages (from spacy) (0.3.2)\n",
      "Requirement already satisfied: typer<0.10.0,>=0.3.0 in c:\\users\\danil\\appdata\\roaming\\python\\python311\\site-packages (from spacy) (0.9.0)\n",
      "Requirement already satisfied: pathy>=0.10.0 in c:\\users\\danil\\appdata\\roaming\\python\\python311\\site-packages (from spacy) (0.10.2)\n",
      "Requirement already satisfied: smart-open<7.0.0,>=5.2.1 in c:\\users\\danil\\appdata\\roaming\\python\\python311\\site-packages (from spacy) (6.4.0)\n",
      "Requirement already satisfied: tqdm<5.0.0,>=4.38.0 in c:\\python311\\lib\\site-packages (from spacy) (4.66.1)\n",
      "Requirement already satisfied: requests<3.0.0,>=2.13.0 in c:\\users\\danil\\appdata\\roaming\\python\\python311\\site-packages (from spacy) (2.31.0)\n",
      "Requirement already satisfied: pydantic!=1.8,!=1.8.1,<3.0.0,>=1.7.4 in c:\\users\\danil\\appdata\\roaming\\python\\python311\\site-packages (from spacy) (2.3.0)\n",
      "Requirement already satisfied: jinja2 in c:\\users\\danil\\appdata\\roaming\\python\\python311\\site-packages (from spacy) (3.1.2)\n",
      "Requirement already satisfied: setuptools in c:\\users\\danil\\appdata\\roaming\\python\\python311\\site-packages (from spacy) (68.1.2)\n",
      "Requirement already satisfied: packaging>=20.0 in c:\\users\\danil\\appdata\\roaming\\python\\python311\\site-packages (from spacy) (23.1)\n",
      "Requirement already satisfied: langcodes<4.0.0,>=3.2.0 in c:\\users\\danil\\appdata\\roaming\\python\\python311\\site-packages (from spacy) (3.3.0)\n",
      "Requirement already satisfied: annotated-types>=0.4.0 in c:\\users\\danil\\appdata\\roaming\\python\\python311\\site-packages (from pydantic!=1.8,!=1.8.1,<3.0.0,>=1.7.4->spacy) (0.6.0)\n",
      "Requirement already satisfied: pydantic-core==2.6.3 in c:\\users\\danil\\appdata\\roaming\\python\\python311\\site-packages (from pydantic!=1.8,!=1.8.1,<3.0.0,>=1.7.4->spacy) (2.6.3)\n",
      "Requirement already satisfied: typing-extensions>=4.6.1 in c:\\python311\\lib\\site-packages (from pydantic!=1.8,!=1.8.1,<3.0.0,>=1.7.4->spacy) (4.7.1)\n",
      "Requirement already satisfied: charset-normalizer<4,>=2 in c:\\python311\\lib\\site-packages (from requests<3.0.0,>=2.13.0->spacy) (3.2.0)\n",
      "Requirement already satisfied: idna<4,>=2.5 in c:\\python311\\lib\\site-packages (from requests<3.0.0,>=2.13.0->spacy) (3.4)\n",
      "Requirement already satisfied: urllib3<3,>=1.21.1 in c:\\python311\\lib\\site-packages (from requests<3.0.0,>=2.13.0->spacy) (2.0.4)\n",
      "Requirement already satisfied: certifi>=2017.4.17 in c:\\users\\danil\\appdata\\roaming\\python\\python311\\site-packages (from requests<3.0.0,>=2.13.0->spacy) (2023.7.22)\n",
      "Requirement already satisfied: blis<0.8.0,>=0.7.8 in c:\\users\\danil\\appdata\\roaming\\python\\python311\\site-packages (from thinc<8.3.0,>=8.1.8->spacy) (0.7.11)\n",
      "Requirement already satisfied: confection<1.0.0,>=0.0.1 in c:\\users\\danil\\appdata\\roaming\\python\\python311\\site-packages (from thinc<8.3.0,>=8.1.8->spacy) (0.1.3)\n",
      "Requirement already satisfied: colorama in c:\\python311\\lib\\site-packages (from tqdm<5.0.0,>=4.38.0->spacy) (0.4.6)\n",
      "Requirement already satisfied: click<9.0.0,>=7.1.1 in c:\\users\\danil\\appdata\\roaming\\python\\python311\\site-packages (from typer<0.10.0,>=0.3.0->spacy) (8.1.7)\n",
      "Requirement already satisfied: cloudpathlib<0.16.0,>=0.7.0 in c:\\users\\danil\\appdata\\roaming\\python\\python311\\site-packages (from weasel<0.4.0,>=0.1.0->spacy) (0.15.1)\n",
      "Requirement already satisfied: MarkupSafe>=2.0 in c:\\users\\danil\\appdata\\roaming\\python\\python311\\site-packages (from jinja2->spacy) (2.1.3)\n",
      "Note: you may need to restart the kernel to use updated packages.\n"
     ]
    },
    {
     "name": "stderr",
     "output_type": "stream",
     "text": [
      "\n",
      "[notice] A new release of pip is available: 23.3 -> 23.3.1\n",
      "[notice] To update, run: python.exe -m pip install --upgrade pip\n"
     ]
    }
   ],
   "source": [
    "%pip install numpy scikit-learn spacy"
   ]
  },
  {
   "cell_type": "code",
   "execution_count": 108,
   "metadata": {},
   "outputs": [],
   "source": [
    "import numpy as np\n",
    "import pandas as pd\n",
    "from nltk.corpus import stopwords\n",
    "from nltk import word_tokenize\n",
    "from sklearn.metrics.pairwise import cosine_similarity\n",
    "from sklearn.feature_extraction.text import CountVectorizer\n",
    "from sklearn.feature_extraction import DictVectorizer\n",
    "from pathlib import Path"
   ]
  },
  {
   "cell_type": "code",
   "execution_count": 152,
   "metadata": {},
   "outputs": [],
   "source": [
    "class Document:\n",
    "    text = \"\"\n",
    "    tokens = \"\"\n",
    "    tokens_tagged = []\n",
    "    _stopwords = []\n",
    "\n",
    "    def __init__(self, text=\"\", user_stopwords=stopwords.words(\"english\")):\n",
    "        self.text = text\n",
    "\n",
    "        self._stopwords = user_stopwords\n",
    "\n",
    "        self.tokens = word_tokenize(text)\n",
    "        self.tokens = [w for w in self.tokens if not w in self._stopwords]\n",
    "        self.tokens = [w for w in self.tokens if w.isalpha()]\n",
    "\n",
    "\n",
    "    def vectorize(self):\n",
    "        count_vectorizer = CountVectorizer(stop_words=self._stopwords)\n",
    "        word_matrix = count_vectorizer.fit_transform(self.tokens)\n",
    "        return word_matrix.todense()\n",
    "\n",
    "\n",
    "    def cos_similarity(self, *args):\n",
    "        count_vectorizer = CountVectorizer(stop_words=self._stopwords)\n",
    "        documents = [self.text, *args]\n",
    "        documents_matrix_sp = count_vectorizer.fit_transform(documents)\n",
    "        documents_matrix = documents_matrix_sp.todense()\n",
    "\n",
    "        return cosine_similarity(X=np.asarray(documents_matrix), Y=None)\n",
    "\n",
    "\n",
    "\n"
   ]
  },
  {
   "cell_type": "code",
   "execution_count": 153,
   "metadata": {},
   "outputs": [],
   "source": [
    "stopwords_ru = stopwords.words(\"russian\")\n",
    "stopwords_ru.extend([\"это\"])"
   ]
  },
  {
   "cell_type": "code",
   "execution_count": 154,
   "metadata": {},
   "outputs": [],
   "source": [
    "text = \\\n",
    "\"\"\"\n",
    "Ехал Грека через реку. \n",
    "Видит Грека в реке рак. \n",
    "Сунул Грека руку в реку. \n",
    "Рак за руку Греку цап!\n",
    "\"\"\"\n",
    "\n",
    "text2 = \\\n",
    "\"\"\"\n",
    "Ехал грека через реку\n",
    "Видит грека в реке гроб\n",
    "И коли век у человека\n",
    "Лишь один, судьбины рок\n",
    "Сунул грека руку в реку\n",
    "Реку боли, реку зла\n",
    "Бафомета видит грека\n",
    "То скелета, то козла\n",
    "\"\"\"\n",
    "# ​pyrokinesis - докучные сказки докучные сказки докучные"
   ]
  },
  {
   "cell_type": "code",
   "execution_count": 155,
   "metadata": {},
   "outputs": [],
   "source": [
    "dt = Document(text, user_stopwords=stopwords_ru)"
   ]
  },
  {
   "cell_type": "code",
   "execution_count": 156,
   "metadata": {},
   "outputs": [
    {
     "data": {
      "text/plain": [
       "matrix([[0, 0, 0, 1, 0, 0, 0, 0, 0, 0],\n",
       "        [0, 1, 0, 0, 0, 0, 0, 0, 0, 0],\n",
       "        [0, 0, 0, 0, 0, 0, 1, 0, 0, 0],\n",
       "        [1, 0, 0, 0, 0, 0, 0, 0, 0, 0],\n",
       "        [0, 1, 0, 0, 0, 0, 0, 0, 0, 0],\n",
       "        [0, 0, 0, 0, 0, 1, 0, 0, 0, 0],\n",
       "        [0, 0, 0, 0, 1, 0, 0, 0, 0, 0],\n",
       "        [0, 0, 0, 0, 0, 0, 0, 0, 1, 0],\n",
       "        [0, 1, 0, 0, 0, 0, 0, 0, 0, 0],\n",
       "        [0, 0, 0, 0, 0, 0, 0, 1, 0, 0],\n",
       "        [0, 0, 0, 0, 0, 0, 1, 0, 0, 0],\n",
       "        [0, 0, 0, 0, 1, 0, 0, 0, 0, 0],\n",
       "        [0, 0, 0, 0, 0, 0, 0, 1, 0, 0],\n",
       "        [0, 0, 1, 0, 0, 0, 0, 0, 0, 0],\n",
       "        [0, 0, 0, 0, 0, 0, 0, 0, 0, 1]], dtype=int64)"
      ]
     },
     "execution_count": 156,
     "metadata": {},
     "output_type": "execute_result"
    }
   ],
   "source": [
    "dt.vectorize()"
   ]
  },
  {
   "cell_type": "code",
   "execution_count": 157,
   "metadata": {},
   "outputs": [
    {
     "data": {
      "text/plain": [
       "array([[1.        , 0.72057669],\n",
       "       [0.72057669, 1.        ]])"
      ]
     },
     "metadata": {},
     "output_type": "display_data"
    }
   ],
   "source": [
    "display(dt.cos_similarity(text2))"
   ]
  },
  {
   "cell_type": "code",
   "execution_count": 178,
   "metadata": {},
   "outputs": [],
   "source": [
    "p = Path(\"./\")\n",
    "book_paths = p.glob(\"**/*.txt\")\n",
    "\n",
    "books = {}\n",
    "\n",
    "for bp in book_paths:\n",
    "    books[bp.name] = bp.read_text(encoding=\"utf-8-sig\")\n"
   ]
  },
  {
   "cell_type": "markdown",
   "metadata": {},
   "source": [
    "# Косинусное сходство между текстами Пелевина"
   ]
  },
  {
   "cell_type": "code",
   "execution_count": 179,
   "metadata": {},
   "outputs": [
    {
     "data": {
      "text/html": [
       "<div>\n",
       "<style scoped>\n",
       "    .dataframe tbody tr th:only-of-type {\n",
       "        vertical-align: middle;\n",
       "    }\n",
       "\n",
       "    .dataframe tbody tr th {\n",
       "        vertical-align: top;\n",
       "    }\n",
       "\n",
       "    .dataframe thead th {\n",
       "        text-align: right;\n",
       "    }\n",
       "</style>\n",
       "<table border=\"1\" class=\"dataframe\">\n",
       "  <thead>\n",
       "    <tr style=\"text-align: right;\">\n",
       "      <th></th>\n",
       "      <th>Chapaev_and_the_Void.txt</th>\n",
       "      <th>Empire_V.txt</th>\n",
       "      <th>Generation_P.txt</th>\n",
       "      <th>KGBT_plus.txt</th>\n",
       "      <th>Omon_Ra.txt</th>\n",
       "      <th>Secret_Views_of_Mount_Fuji.txt</th>\n",
       "      <th>Yellow_Arrow.txt</th>\n",
       "    </tr>\n",
       "  </thead>\n",
       "  <tbody>\n",
       "    <tr>\n",
       "      <th>Chapaev_and_the_Void.txt</th>\n",
       "      <td>1.000000</td>\n",
       "      <td>0.953716</td>\n",
       "      <td>0.926302</td>\n",
       "      <td>0.930070</td>\n",
       "      <td>0.947532</td>\n",
       "      <td>0.918311</td>\n",
       "      <td>0.885132</td>\n",
       "    </tr>\n",
       "    <tr>\n",
       "      <th>Empire_V.txt</th>\n",
       "      <td>0.953716</td>\n",
       "      <td>1.000000</td>\n",
       "      <td>0.910530</td>\n",
       "      <td>0.961540</td>\n",
       "      <td>0.931368</td>\n",
       "      <td>0.943551</td>\n",
       "      <td>0.859742</td>\n",
       "    </tr>\n",
       "    <tr>\n",
       "      <th>Generation_P.txt</th>\n",
       "      <td>0.926302</td>\n",
       "      <td>0.910530</td>\n",
       "      <td>1.000000</td>\n",
       "      <td>0.890949</td>\n",
       "      <td>0.911681</td>\n",
       "      <td>0.884061</td>\n",
       "      <td>0.857258</td>\n",
       "    </tr>\n",
       "    <tr>\n",
       "      <th>KGBT_plus.txt</th>\n",
       "      <td>0.930070</td>\n",
       "      <td>0.961540</td>\n",
       "      <td>0.890949</td>\n",
       "      <td>1.000000</td>\n",
       "      <td>0.925478</td>\n",
       "      <td>0.952613</td>\n",
       "      <td>0.833585</td>\n",
       "    </tr>\n",
       "    <tr>\n",
       "      <th>Omon_Ra.txt</th>\n",
       "      <td>0.947532</td>\n",
       "      <td>0.931368</td>\n",
       "      <td>0.911681</td>\n",
       "      <td>0.925478</td>\n",
       "      <td>1.000000</td>\n",
       "      <td>0.905192</td>\n",
       "      <td>0.864902</td>\n",
       "    </tr>\n",
       "    <tr>\n",
       "      <th>Secret_Views_of_Mount_Fuji.txt</th>\n",
       "      <td>0.918311</td>\n",
       "      <td>0.943551</td>\n",
       "      <td>0.884061</td>\n",
       "      <td>0.952613</td>\n",
       "      <td>0.905192</td>\n",
       "      <td>1.000000</td>\n",
       "      <td>0.834168</td>\n",
       "    </tr>\n",
       "    <tr>\n",
       "      <th>Yellow_Arrow.txt</th>\n",
       "      <td>0.885132</td>\n",
       "      <td>0.859742</td>\n",
       "      <td>0.857258</td>\n",
       "      <td>0.833585</td>\n",
       "      <td>0.864902</td>\n",
       "      <td>0.834168</td>\n",
       "      <td>1.000000</td>\n",
       "    </tr>\n",
       "  </tbody>\n",
       "</table>\n",
       "</div>"
      ],
      "text/plain": [
       "                                Chapaev_and_the_Void.txt  Empire_V.txt  \\\n",
       "Chapaev_and_the_Void.txt                        1.000000      0.953716   \n",
       "Empire_V.txt                                    0.953716      1.000000   \n",
       "Generation_P.txt                                0.926302      0.910530   \n",
       "KGBT_plus.txt                                   0.930070      0.961540   \n",
       "Omon_Ra.txt                                     0.947532      0.931368   \n",
       "Secret_Views_of_Mount_Fuji.txt                  0.918311      0.943551   \n",
       "Yellow_Arrow.txt                                0.885132      0.859742   \n",
       "\n",
       "                                Generation_P.txt  KGBT_plus.txt  Omon_Ra.txt  \\\n",
       "Chapaev_and_the_Void.txt                0.926302       0.930070     0.947532   \n",
       "Empire_V.txt                            0.910530       0.961540     0.931368   \n",
       "Generation_P.txt                        1.000000       0.890949     0.911681   \n",
       "KGBT_plus.txt                           0.890949       1.000000     0.925478   \n",
       "Omon_Ra.txt                             0.911681       0.925478     1.000000   \n",
       "Secret_Views_of_Mount_Fuji.txt          0.884061       0.952613     0.905192   \n",
       "Yellow_Arrow.txt                        0.857258       0.833585     0.864902   \n",
       "\n",
       "                                Secret_Views_of_Mount_Fuji.txt  \\\n",
       "Chapaev_and_the_Void.txt                              0.918311   \n",
       "Empire_V.txt                                          0.943551   \n",
       "Generation_P.txt                                      0.884061   \n",
       "KGBT_plus.txt                                         0.952613   \n",
       "Omon_Ra.txt                                           0.905192   \n",
       "Secret_Views_of_Mount_Fuji.txt                        1.000000   \n",
       "Yellow_Arrow.txt                                      0.834168   \n",
       "\n",
       "                                Yellow_Arrow.txt  \n",
       "Chapaev_and_the_Void.txt                0.885132  \n",
       "Empire_V.txt                            0.859742  \n",
       "Generation_P.txt                        0.857258  \n",
       "KGBT_plus.txt                           0.833585  \n",
       "Omon_Ra.txt                             0.864902  \n",
       "Secret_Views_of_Mount_Fuji.txt          0.834168  \n",
       "Yellow_Arrow.txt                        1.000000  "
      ]
     },
     "metadata": {},
     "output_type": "display_data"
    }
   ],
   "source": [
    "ft = list(books.keys())[0]\n",
    "d = Document(books.pop(ft))\n",
    "\n",
    "cos_similiarity_df = pd.DataFrame(\n",
    "    d.cos_similarity(*books.values()),\n",
    "    columns=[ft, *books.keys()],\n",
    "    index=[ft, *books.keys()]\n",
    ")\n",
    "\n",
    "display(cos_similiarity_df)"
   ]
  },
  {
   "cell_type": "markdown",
   "metadata": {},
   "source": [
    "Самое большое сходство — между \"Ампир V\" и \"КГБТ+\""
   ]
  },
  {
   "cell_type": "code",
   "execution_count": 225,
   "metadata": {},
   "outputs": [
    {
     "data": {
      "text/plain": [
       "{'titles': ('Empire_V.txt', 'KGBT_plus.txt'), 'value': 0.9615402691661951}"
      ]
     },
     "metadata": {},
     "output_type": "display_data"
    }
   ],
   "source": [
    "biggest_sim = {\"titles\" : (\"\", \"\"), \"value\" : 0}\n",
    "\n",
    "\n",
    "for index, r in cos_similiarity_df.iterrows():\n",
    "    for column, v in r.items():\n",
    "        if biggest_sim[\"value\"] < v and v < 0.9999999999: # Not 1.0 to work around raounding errors\n",
    "            biggest_sim[\"value\"] = v\n",
    "            biggest_sim[\"titles\"] = (index, column)\n",
    "\n",
    "display(biggest_sim)"
   ]
  }
 ],
 "metadata": {
  "kernelspec": {
   "display_name": "Python 3",
   "language": "python",
   "name": "python3"
  },
  "language_info": {
   "codemirror_mode": {
    "name": "ipython",
    "version": 3
   },
   "file_extension": ".py",
   "mimetype": "text/x-python",
   "name": "python",
   "nbconvert_exporter": "python",
   "pygments_lexer": "ipython3",
   "version": "3.11.0"
  }
 },
 "nbformat": 4,
 "nbformat_minor": 2
}
