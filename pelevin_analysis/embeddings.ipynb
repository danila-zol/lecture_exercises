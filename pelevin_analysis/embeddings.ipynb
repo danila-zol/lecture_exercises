{
 "cells": [
  {
   "cell_type": "code",
   "execution_count": 140,
   "metadata": {},
   "outputs": [],
   "source": [
    "import gensim.downloader\n",
    "from gensim.models import Word2Vec\n",
    "import spacy\n",
    "from nltk.tokenize import sent_tokenize, word_tokenize\n",
    "from nltk.corpus import brown\n",
    "from nltk.corpus import stopwords\n",
    "from itertools import combinations"
   ]
  },
  {
   "cell_type": "code",
   "execution_count": 124,
   "metadata": {},
   "outputs": [],
   "source": [
    "word2vec_rus = gensim.downloader.load('word2vec-ruscorpora-300')\n",
    "nlp = spacy.load(\"ru_core_news_sm\")\n",
    "\n",
    "stopwords_ru = stopwords.words(\"russian\")\n",
    "stopwords_ru.extend([\"это\"])"
   ]
  },
  {
   "cell_type": "code",
   "execution_count": 125,
   "metadata": {},
   "outputs": [],
   "source": [
    "with open(\"./books/Yellow_Arrow.txt\", encoding=\"utf-8-sig\") as f:\n",
    "    book_text = f.read()\n",
    "    book_sentances = []\n",
    "    for s in sent_tokenize(book_text):\n",
    "        tokenized_s = word_tokenize(s)\n",
    "        tokenized_s = [w for w in tokenized_s if not w in stopwords_ru]\n",
    "        tokenized_s = [w for w in tokenized_s if w.isalpha()]\n",
    "        book_sentances.append(tokenized_s)"
   ]
  },
  {
   "cell_type": "code",
   "execution_count": 126,
   "metadata": {},
   "outputs": [],
   "source": [
    "model = Word2Vec(sentences=book_sentances, min_count=1)"
   ]
  },
  {
   "cell_type": "markdown",
   "metadata": {},
   "source": [
    "## Похожие векторы разных интересных слов"
   ]
  },
  {
   "cell_type": "code",
   "execution_count": 127,
   "metadata": {},
   "outputs": [
    {
     "data": {
      "text/plain": [
       "[('Ее', 0.33624839782714844),\n",
       " ('нашего', 0.32547643780708313),\n",
       " ('украшенный', 0.32413142919540405),\n",
       " ('некоторые', 0.3186281621456146),\n",
       " ('воздухе', 0.314453661441803),\n",
       " ('входа', 0.3092108964920044),\n",
       " ('густели', 0.3038446009159088),\n",
       " ('умирающую', 0.3020170032978058),\n",
       " ('белизны', 0.2936922609806061),\n",
       " ('сигаретами', 0.289695143699646)]"
      ]
     },
     "execution_count": 127,
     "metadata": {},
     "output_type": "execute_result"
    }
   ],
   "source": [
    "model.wv.most_similar(\"поезд\")"
   ]
  },
  {
   "cell_type": "code",
   "execution_count": 129,
   "metadata": {},
   "outputs": [
    {
     "data": {
      "text/plain": [
       "[('похож', 0.3265950381755829),\n",
       " ('запаха', 0.3159712851047516),\n",
       " ('граммов', 0.3141884207725525),\n",
       " ('трамвайного', 0.31128010153770447),\n",
       " ('республиках', 0.30760982632637024),\n",
       " ('Кручу', 0.3060096800327301),\n",
       " ('ребята', 0.3039742410182953),\n",
       " ('спорили', 0.3035620152950287),\n",
       " ('разрешили', 0.29871833324432373),\n",
       " ('пейзаж', 0.2854540944099426)]"
      ]
     },
     "execution_count": 129,
     "metadata": {},
     "output_type": "execute_result"
    }
   ],
   "source": [
    "model.wv.most_similar(\"Индия\")"
   ]
  },
  {
   "cell_type": "code",
   "execution_count": null,
   "metadata": {},
   "outputs": [
    {
     "data": {
      "text/plain": [
       "[('черепов', 0.36259034276008606),\n",
       " ('покойный', 0.33176591992378235),\n",
       " ('смотреть', 0.3170190751552582),\n",
       " ('другим', 0.3026250898838043),\n",
       " ('то', 0.3018999695777893),\n",
       " ('переходе', 0.2946528196334839),\n",
       " ('смыслом', 0.2932145595550537),\n",
       " ('бодрые', 0.2915308475494385),\n",
       " ('клочковатые', 0.28271588683128357),\n",
       " ('вызывал', 0.2780502140522003)]"
      ]
     },
     "execution_count": 122,
     "metadata": {},
     "output_type": "execute_result"
    }
   ],
   "source": [
    "model.wv.most_similar(\"сигареты\")"
   ]
  },
  {
   "cell_type": "markdown",
   "metadata": {},
   "source": [
    "## Самые похожие пары слов"
   ]
  },
  {
   "cell_type": "code",
   "execution_count": 142,
   "metadata": {},
   "outputs": [
    {
     "data": {
      "text/plain": [
       "[(0.5342025, ('пива', 'меловой')),\n",
       " (0.4929293, ('волос', 'далекое')),\n",
       " (0.46444553, ('пленку', 'сухой')),\n",
       " (0.46243432, ('ровные', 'Очередь')),\n",
       " (0.46196136, ('творилось', 'голосами')),\n",
       " (0.46114227, ('взаимодействовать', 'пореже')),\n",
       " (0.45731634, ('скорый', 'Чацкого'))]"
      ]
     },
     "execution_count": 142,
     "metadata": {},
     "output_type": "execute_result"
    }
   ],
   "source": [
    "model_vocab = model.wv.index_to_key\n",
    "pairs = combinations(model_vocab, 2)\n",
    "pairs_similiarity = [(model.wv.similarity(p[0], p[1]), p) for p in pairs]\n",
    "top_pairs = sorted(pairs_similiarity, reverse=True)[:7]\n",
    "top_pairs"
   ]
  }
 ],
 "metadata": {
  "kernelspec": {
   "display_name": "Python 3",
   "language": "python",
   "name": "python3"
  },
  "language_info": {
   "codemirror_mode": {
    "name": "ipython",
    "version": 3
   },
   "file_extension": ".py",
   "mimetype": "text/x-python",
   "name": "python",
   "nbconvert_exporter": "python",
   "pygments_lexer": "ipython3",
   "version": "3.11.0"
  }
 },
 "nbformat": 4,
 "nbformat_minor": 2
}
