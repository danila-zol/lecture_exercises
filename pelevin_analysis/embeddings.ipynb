{
 "cells": [
  {
   "cell_type": "code",
   "execution_count": 159,
   "metadata": {},
   "outputs": [],
   "source": [
    "from gensim.models import Word2Vec\n",
    "from nltk.tokenize import sent_tokenize, word_tokenize\n",
    "from nltk.corpus import stopwords\n",
    "from itertools import combinations"
   ]
  },
  {
   "cell_type": "code",
   "execution_count": 160,
   "metadata": {},
   "outputs": [],
   "source": [
    "stopwords_ru = stopwords.words(\"russian\")\n",
    "stopwords_ru.extend([\"это\"])"
   ]
  },
  {
   "cell_type": "code",
   "execution_count": 161,
   "metadata": {},
   "outputs": [],
   "source": [
    "with open(\"./books/Yellow_Arrow.txt\", encoding=\"utf-8-sig\") as f:\n",
    "    book_text = f.read()\n",
    "    book_sentances = []\n",
    "    for s in sent_tokenize(book_text):\n",
    "        tokenized_s = word_tokenize(s)\n",
    "        tokenized_s = [w for w in tokenized_s if not w in stopwords_ru]\n",
    "        tokenized_s = [w for w in tokenized_s if w.isalpha()]\n",
    "        book_sentances.append(tokenized_s)"
   ]
  },
  {
   "cell_type": "code",
   "execution_count": 162,
   "metadata": {},
   "outputs": [],
   "source": [
    "model = Word2Vec(sentences=book_sentances, min_count=1)"
   ]
  },
  {
   "cell_type": "markdown",
   "metadata": {},
   "source": [
    "## Похожие векторы разных интересных слов"
   ]
  },
  {
   "cell_type": "code",
   "execution_count": 163,
   "metadata": {},
   "outputs": [
    {
     "data": {
      "text/plain": [
       "[('Ее', 0.33624839782714844),\n",
       " ('нашего', 0.32547643780708313),\n",
       " ('украшенный', 0.32413142919540405),\n",
       " ('некоторые', 0.3186281621456146),\n",
       " ('воздухе', 0.314453661441803),\n",
       " ('входа', 0.3092108964920044),\n",
       " ('густели', 0.3038446009159088),\n",
       " ('умирающую', 0.3020170032978058),\n",
       " ('белизны', 0.2936922609806061),\n",
       " ('сигаретами', 0.289695143699646)]"
      ]
     },
     "execution_count": 163,
     "metadata": {},
     "output_type": "execute_result"
    }
   ],
   "source": [
    "model.wv.most_similar(\"поезд\")"
   ]
  },
  {
   "cell_type": "code",
   "execution_count": 164,
   "metadata": {},
   "outputs": [
    {
     "data": {
      "text/plain": [
       "[('похож', 0.3265950381755829),\n",
       " ('запаха', 0.3159712851047516),\n",
       " ('граммов', 0.3141884207725525),\n",
       " ('трамвайного', 0.31128010153770447),\n",
       " ('республиках', 0.30760982632637024),\n",
       " ('Кручу', 0.3060096800327301),\n",
       " ('ребята', 0.3039742410182953),\n",
       " ('спорили', 0.3035620152950287),\n",
       " ('разрешили', 0.29871833324432373),\n",
       " ('пейзаж', 0.2854540944099426)]"
      ]
     },
     "execution_count": 164,
     "metadata": {},
     "output_type": "execute_result"
    }
   ],
   "source": [
    "model.wv.most_similar(\"Индия\")"
   ]
  },
  {
   "cell_type": "code",
   "execution_count": 165,
   "metadata": {},
   "outputs": [
    {
     "data": {
      "text/plain": [
       "[('толпе', 0.3879157304763794),\n",
       " ('желтые', 0.3301064372062683),\n",
       " ('дверях', 0.321533739566803),\n",
       " ('объяснить', 0.31915053725242615),\n",
       " ('вязаная', 0.3178926706314087),\n",
       " ('путей', 0.2995682656764984),\n",
       " ('пшенку', 0.29489532113075256),\n",
       " ('постижении', 0.2944965660572052),\n",
       " ('Люди', 0.2762543857097626),\n",
       " ('идут', 0.2739814817905426)]"
      ]
     },
     "execution_count": 165,
     "metadata": {},
     "output_type": "execute_result"
    }
   ],
   "source": [
    "model.wv.most_similar(\"сигареты\")"
   ]
  },
  {
   "cell_type": "markdown",
   "metadata": {},
   "source": [
    "## Самые похожие пары слов"
   ]
  },
  {
   "cell_type": "code",
   "execution_count": 166,
   "metadata": {},
   "outputs": [
    {
     "data": {
      "text/plain": [
       "[(0.5342025, ('пива', 'меловой')),\n",
       " (0.4929293, ('волос', 'далекое')),\n",
       " (0.46444553, ('пленку', 'сухой')),\n",
       " (0.46243432, ('ровные', 'Очередь')),\n",
       " (0.46196136, ('творилось', 'голосами')),\n",
       " (0.46114227, ('взаимодействовать', 'пореже')),\n",
       " (0.45731634, ('скорый', 'Чацкого'))]"
      ]
     },
     "execution_count": 166,
     "metadata": {},
     "output_type": "execute_result"
    }
   ],
   "source": [
    "model_vocab = model.wv.index_to_key\n",
    "pairs = combinations(model_vocab, 2)\n",
    "pairs_similiarity = [(model.wv.similarity(p[0], p[1]), p) for p in pairs]\n",
    "top_pairs = sorted(pairs_similiarity, reverse=True)[:7]\n",
    "top_pairs"
   ]
  }
 ],
 "metadata": {
  "kernelspec": {
   "display_name": "Python 3",
   "language": "python",
   "name": "python3"
  },
  "language_info": {
   "codemirror_mode": {
    "name": "ipython",
    "version": 3
   },
   "file_extension": ".py",
   "mimetype": "text/x-python",
   "name": "python",
   "nbconvert_exporter": "python",
   "pygments_lexer": "ipython3",
   "version": "3.11.0"
  }
 },
 "nbformat": 4,
 "nbformat_minor": 2
}
