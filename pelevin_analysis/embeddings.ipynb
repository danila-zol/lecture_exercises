{
 "cells": [
  {
   "cell_type": "code",
   "execution_count": 38,
   "metadata": {},
   "outputs": [],
   "source": [
    "import gensim.downloader\n",
    "from gensim.models import Word2Vec\n",
    "import spacy\n",
    "from nltk.tokenize import sent_tokenize, word_tokenize\n"
   ]
  },
  {
   "cell_type": "code",
   "execution_count": 56,
   "metadata": {},
   "outputs": [],
   "source": [
    "word2vec_rus = gensim.downloader.load('word2vec-ruscorpora-300')\n",
    "nlp = spacy.load(\"ru_core_news_sm\")"
   ]
  },
  {
   "cell_type": "code",
   "execution_count": 44,
   "metadata": {},
   "outputs": [],
   "source": [
    "with open(\"./books/Yellow_Arrow.txt\", encoding=\"utf-8-sig\") as f:\n",
    "    book_text = f.read()\n",
    "    book_tokens = nlp(book_text)\n",
    "    book_sentances = sent_tokenize(book_text)"
   ]
  },
  {
   "cell_type": "code",
   "execution_count": 57,
   "metadata": {},
   "outputs": [
    {
     "data": {
      "text/plain": [
       "[('вагон_NOUN', 0.8186936974525452),\n",
       " ('электричка_NOUN', 0.704152524471283),\n",
       " ('товарно-пассажирский_ADJ', 0.7004628777503967),\n",
       " ('перрон_NOUN', 0.6843242645263672),\n",
       " ('вокзал_NOUN', 0.6810490489006042),\n",
       " ('полустанок_NOUN', 0.6636256575584412),\n",
       " ('почтово-пассажирский_ADJ', 0.6593279242515564),\n",
       " ('паровоз_NOUN', 0.6588730812072754),\n",
       " ('курьерский_ADJ', 0.6475405097007751),\n",
       " ('товарняк_NOUN', 0.6459250450134277)]"
      ]
     },
     "execution_count": 57,
     "metadata": {},
     "output_type": "execute_result"
    }
   ],
   "source": [
    "word2vec_rus.most_similar([\"поезд_NOUN\"])"
   ]
  },
  {
   "cell_type": "code",
   "execution_count": null,
   "metadata": {},
   "outputs": [],
   "source": []
  }
 ],
 "metadata": {
  "kernelspec": {
   "display_name": "Python 3",
   "language": "python",
   "name": "python3"
  },
  "language_info": {
   "codemirror_mode": {
    "name": "ipython",
    "version": 3
   },
   "file_extension": ".py",
   "mimetype": "text/x-python",
   "name": "python",
   "nbconvert_exporter": "python",
   "pygments_lexer": "ipython3",
   "version": "3.11.0"
  }
 },
 "nbformat": 4,
 "nbformat_minor": 2
}
