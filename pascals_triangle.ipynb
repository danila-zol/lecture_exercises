{
 "cells": [
  {
   "cell_type": "code",
   "execution_count": 21,
   "metadata": {},
   "outputs": [],
   "source": [
    "from math import factorial"
   ]
  },
  {
   "cell_type": "code",
   "execution_count": 22,
   "metadata": {},
   "outputs": [],
   "source": [
    "def bcoef(n, i):\n",
    "    return factorial(n)//(factorial(i)*factorial(n-i))\n",
    "\n",
    "def prod_bcoef(n, i):\n",
    "    for n in range(i, n)"
   ]
  },
  {
   "cell_type": "code",
   "execution_count": 66,
   "metadata": {},
   "outputs": [
    {
     "name": "stdout",
     "output_type": "stream",
     "text": [
      "\n",
      "Coef for 1, 1: 1\n",
      "\n",
      "Coef for 2, 1: 1\n",
      "Coef for 2, 2: 1\n",
      "\n",
      "Coef for 3, 1: 1\n",
      "Coef for 3, 2: 2\n",
      "Coef for 3, 3: 1\n",
      "\n",
      "Coef for 4, 1: 1\n",
      "Coef for 4, 2: 3\n",
      "Coef for 4, 3: 3\n",
      "Coef for 4, 4: 1\n",
      "\n",
      "Coef for 5, 1: 1\n",
      "Coef for 5, 2: 4\n",
      "Coef for 5, 3: 6\n",
      "Coef for 5, 4: 4\n",
      "Coef for 5, 5: 1\n",
      "\n"
     ]
    }
   ],
   "source": [
    "for n in range(0, 6):\n",
    "    coef = 1\n",
    "    for i in range(1, n + 1):\n",
    "        print(f\"Coef for {n}, {i}: {coef}\", end=\"\\n\")\n",
    "        coef = coef * (n - i) // i\n",
    "\n",
    "    print()"
   ]
  },
  {
   "cell_type": "code",
   "execution_count": 99,
   "metadata": {},
   "outputs": [
    {
     "name": "stdout",
     "output_type": "stream",
     "text": [
      "3\n",
      "1\n"
     ]
    }
   ],
   "source": [
    "n = 3\n",
    "i = 0\n",
    "print(bcoef(n, i) * (n + 1 - (i + 1)) // (i + 1))\n",
    "print(bcoef(n, i))\n"
   ]
  },
  {
   "cell_type": "code",
   "execution_count": null,
   "metadata": {},
   "outputs": [],
   "source": []
  }
 ],
 "metadata": {
  "kernelspec": {
   "display_name": "Python 3",
   "language": "python",
   "name": "python3"
  },
  "language_info": {
   "codemirror_mode": {
    "name": "ipython",
    "version": 3
   },
   "file_extension": ".py",
   "mimetype": "text/x-python",
   "name": "python",
   "nbconvert_exporter": "python",
   "pygments_lexer": "ipython3",
   "version": "3.11.0"
  }
 },
 "nbformat": 4,
 "nbformat_minor": 2
}
