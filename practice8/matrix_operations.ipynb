{
 "cells": [
  {
   "cell_type": "code",
   "execution_count": 15,
   "metadata": {},
   "outputs": [],
   "source": [
    "class Matrix:\n",
    "    \n",
    "    def __init__(self, *args):\n",
    "\n",
    "        row_count = 0\n",
    "        multi_array = []\n",
    "\n",
    "        for a in args:\n",
    "\n",
    "            if isinstance(a, list):\n",
    "                multi_array.append(a)\n",
    "        \n",
    "        self.multi_array = multi_array\n",
    "\n",
    "    def __check_block_match(m1, m2):\n",
    "        for row in m1:\n",
    "\n",
    "            try:\n",
    "                m2[m1.index(e)]\n",
    "            except ValueError:\n",
    "                return False\n",
    "\n",
    "            for e in row:\n",
    "                try:\n",
    "                    m2[m1.index(row)][row.index(e)]\n",
    "                except ValueError:\n",
    "                    return False\n",
    "        \n",
    "        return True\n",
    "\n",
    "\n",
    "    def __add__(self, other):\n",
    "        other_matrix = other.multi_array\n",
    "        my_matrix = self.multi_array\n",
    "        result = []\n",
    "        for n in range(len(my_matrix)):\n",
    "            result.append(list(map(lambda x, y: x + y, my_matrix[n], other_matrix[n])))\n",
    "\n",
    "        lst = []\n",
    "        lst = list(map(int, lst))\n",
    "        lst = (\n",
    "            int(x) + int(y)\n",
    "            for x in lst if int(x) == 2 \n",
    "            for y in lst[::-1]\n",
    "        )\n",
    "        return result\n"
   ]
  },
  {
   "cell_type": "code",
   "execution_count": 16,
   "metadata": {},
   "outputs": [
    {
     "name": "stdout",
     "output_type": "stream",
     "text": [
      "[(['foo', 'bar', 'foobar'], [3, 4, 5]), ([1, 2, 3], ['good', 'bad', 'terrible'])]\n",
      "['foo', 'bar', 'foobar']\n"
     ]
    }
   ],
   "source": [
    "my_matrix = [[\"foo\", \"bar\", \"foobar\"], [1, 2, 3,]]\n",
    "other_matrix = [[3, 4, 5,], [\"good\", \"bad\", \"terrible\"]]\n",
    "c_rows = list(zip(my_matrix, other_matrix))\n",
    "print(c_rows)\n",
    "print(c_rows[0][0])"
   ]
  },
  {
   "cell_type": "code",
   "execution_count": 19,
   "metadata": {},
   "outputs": [
    {
     "name": "stdout",
     "output_type": "stream",
     "text": [
      "[[6, 6, 6], [6, 6, 6]]\n"
     ]
    }
   ],
   "source": [
    "m1 = Matrix([1, 2, 3], [3, 4, 5])\n",
    "m2 = Matrix([5, 4, 3], [3, 2, 1])\n",
    "r = m1 + m2\n",
    "print(r)"
   ]
  },
  {
   "cell_type": "code",
   "execution_count": null,
   "metadata": {},
   "outputs": [],
   "source": []
  }
 ],
 "metadata": {
  "kernelspec": {
   "display_name": "Python 3",
   "language": "python",
   "name": "python3"
  },
  "language_info": {
   "codemirror_mode": {
    "name": "ipython",
    "version": 3
   },
   "file_extension": ".py",
   "mimetype": "text/x-python",
   "name": "python",
   "nbconvert_exporter": "python",
   "pygments_lexer": "ipython3",
   "version": "3.11.0"
  },
  "orig_nbformat": 4
 },
 "nbformat": 4,
 "nbformat_minor": 2
}
