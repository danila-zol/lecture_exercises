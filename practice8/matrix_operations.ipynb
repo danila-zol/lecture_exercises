{
 "cells": [
  {
   "cell_type": "code",
   "execution_count": 324,
   "metadata": {},
   "outputs": [],
   "source": [
    "import operator"
   ]
  },
  {
   "cell_type": "code",
   "execution_count": 415,
   "metadata": {
    "notebookRunGroups": {
     "groupValue": ""
    }
   },
   "outputs": [],
   "source": [
    "class Matrix:\n",
    "    \n",
    "    def __init__(self, *args):\n",
    "\n",
    "        multi_array = []\n",
    "\n",
    "        for a in args:\n",
    "\n",
    "            if isinstance(a, list):\n",
    "                multi_array.append(a)\n",
    "        \n",
    "        self.multi_array = multi_array\n",
    "        self.matrix = self.multi_array\n",
    "\n",
    "\n",
    "    def _apply_op(self, other, is_n, f):\n",
    "        my_matrix = self.multi_array\n",
    "        result = [[] for x in my_matrix]\n",
    "\n",
    "        inter_result = 0\n",
    "\n",
    "        my_row_len = len(my_matrix[0])\n",
    "        my_row_n = len(my_matrix)\n",
    "\n",
    "        n = 0\n",
    "        e = 0\n",
    "        while True:\n",
    "            \n",
    "            if e == my_row_len:\n",
    "                e = 0\n",
    "                n += 1\n",
    "\n",
    "            if n == my_row_n:\n",
    "                break\n",
    "\n",
    "            e1 = my_matrix[n][e]\n",
    "            e2 = other.multi_array[n][e] if is_n is False else other\n",
    "\n",
    "            inter_result = f(e1, e2)\n",
    "            result[n].append(inter_result)\n",
    "\n",
    "            e += 1\n",
    "\n",
    "        return result\n",
    "    \n",
    "    def _is_scalar(self, e):\n",
    "        return True if type(e) == int or type(e) == float else False\n",
    "    \n",
    "\n",
    "    def __add__(self, other):\n",
    "        return self._apply_op(other, self._is_scalar(other), operator.add)\n",
    "\n",
    "\n",
    "    def __sub__(self, other):\n",
    "        return self._apply_op(other, self._is_scalar(other), operator.sub)\n",
    "\n",
    "\n",
    "    def __mul__(self, other):        \n",
    "        return self._apply_op(other, self._is_scalar(other), operator.mul)\n",
    "\n",
    "\n",
    "    def __truediv__(self, other):\n",
    "        return self._apply_op(other, self._is_scalar(other), operator.truediv)\n",
    "\n",
    "\n",
    "    def __matmul__(self, other):\n",
    "        other_matrix = other.multi_array if isinstance(other, Matrix) else other\n",
    "        my_matrix = self.multi_array\n",
    "        result = [[] for x in my_matrix]\n",
    "\n",
    "        inter_result = 0\n",
    "\n",
    "        my_row_len = len(my_matrix[0])\n",
    "        my_row_n = len(my_matrix)\n",
    "\n",
    "        i = 0\n",
    "        n = 0\n",
    "        e = 0\n",
    "        while True:\n",
    "            \n",
    "            if e == my_row_len:\n",
    "                result[n].append(inter_result)\n",
    "                inter_result = 0\n",
    "                e = 0\n",
    "                if i == my_row_n - 1:\n",
    "                    n += 1\n",
    "                    i = 0\n",
    "                else:\n",
    "                    i += 1\n",
    "\n",
    "            if n == my_row_n:\n",
    "                break\n",
    "\n",
    "            e1 = my_matrix[n][e]\n",
    "            e2 = other_matrix[e][i]\n",
    "\n",
    "            inter_result += e1 * e2\n",
    "            e += 1\n",
    "\n",
    "        return result\n",
    "    \n",
    "    \n",
    "    def _transpose(self, result):\n",
    "        my_matrix = self.multi_array\n",
    "        r = result\n",
    "        e = 0\n",
    "\n",
    "        def transpose_el(e1, discard_this):\n",
    "            nonlocal e\n",
    "            nonlocal r\n",
    "            nonlocal my_matrix\n",
    "            if e == len(my_matrix[0]):\n",
    "                e = 0\n",
    "\n",
    "            r[e].append(e1)\n",
    "            e += 1\n",
    "\n",
    "            return 0\n",
    "\n",
    "        return transpose_el\n",
    "\n",
    "\n",
    "    def T(self):\n",
    "        # A bit inefficient since we store both the real result and the result of _apply_op that is\n",
    "        # discarded in memory but eh ¯\\_(ツ)_/¯ at least it's DRY.\n",
    "\n",
    "        result = [[] for x in self.multi_array[0]]\n",
    "        transpose_el = self._transpose(result)\n",
    "        self._apply_op(0, True, transpose_el)\n",
    "        return Matrix(*result)\n",
    "       \n",
    "    def __repr__(self):\n",
    "        return str(self.multi_array)\n",
    "        \n"
   ]
  },
  {
   "cell_type": "code",
   "execution_count": 334,
   "metadata": {},
   "outputs": [
    {
     "name": "stdout",
     "output_type": "stream",
     "text": [
      "[(['foo', 'bar', 'foobar'], [3, 4, 5]), ([1, 2, 3], ['good', 'bad', 'terrible'])]\n",
      "['foo', 'bar', 'foobar']\n"
     ]
    }
   ],
   "source": [
    "my_matrix = [[\"foo\", \"bar\", \"foobar\"], [1, 2, 3,]]\n",
    "other_matrix = [[3, 4, 5,], [\"good\", \"bad\", \"terrible\"]]\n",
    "c_rows = list(zip(my_matrix, other_matrix))\n",
    "print(c_rows)\n",
    "print(c_rows[0][0])"
   ]
  },
  {
   "cell_type": "code",
   "execution_count": 417,
   "metadata": {},
   "outputs": [
    {
     "name": "stdout",
     "output_type": "stream",
     "text": [
      "[[7, 7, 7], [7, 7, 7]]\n",
      "[[-5, -3, -1], [1, 3, 5]]\n",
      "[[3, 6, 9], [12, 15, 18]]\n",
      "[[6, 10, 12], [12, 10, 6]]\n",
      "[[0.3333333333333333, 0.6666666666666666, 1.0], [1.3333333333333333, 1.6666666666666667, 2.0]]\n",
      "[[0.16666666666666666, 0.4, 0.75], [1.3333333333333333, 2.5, 6.0]]\n",
      "[[28, 10], [73, 28]]\n",
      "[[1, 4], [2, 5], [3, 6]]\n",
      "[[1, 2, 3], [4, 5, 6]]\n"
     ]
    }
   ],
   "source": [
    "m1 = Matrix([1, 2, 3], [4, 5, 6])\n",
    "t1 = Matrix([1, 4],\n",
    "            [2, 5],\n",
    "            [3, 6])\n",
    "m2 = Matrix([6, 5, 4], [3, 2, 1])\n",
    "m3 = Matrix([6, 5, 4], [3, 2, 1], [10, 20, 30])\n",
    "m4 = Matrix([1, 2, 7], [7, 3, 4], [7, 5, 6])\n",
    "print(m1 + m2)\n",
    "print(m1 - m2)\n",
    "print(m1 * 3)\n",
    "print(m1 * m2)\n",
    "print(m1 / 3)\n",
    "print(m1 / m2)\n",
    "print(m1 @ m2.T())\n",
    "print(m1.T())\n",
    "print(m1)"
   ]
  },
  {
   "cell_type": "code",
   "execution_count": 337,
   "metadata": {},
   "outputs": [
    {
     "name": "stdout",
     "output_type": "stream",
     "text": [
      "Note: you may need to restart the kernel to use updated packages.\n"
     ]
    }
   ],
   "source": [
    "%pip install -Uq numpy"
   ]
  },
  {
   "cell_type": "code",
   "execution_count": 338,
   "metadata": {},
   "outputs": [],
   "source": [
    "import numpy as np"
   ]
  },
  {
   "cell_type": "code",
   "execution_count": 339,
   "metadata": {},
   "outputs": [
    {
     "data": {
      "text/plain": [
       "[[1, 2, 3], [1, 2, 3]]"
      ]
     },
     "execution_count": 339,
     "metadata": {},
     "output_type": "execute_result"
    }
   ],
   "source": [
    "class Test:\n",
    "    array = [[1, 2, 3], [1, 2, 3]]\n",
    "    \n",
    "    def __repr__(self):\n",
    "        return str(self.array)\n",
    "    \n",
    "t = Test()\n",
    "t"
   ]
  },
  {
   "cell_type": "code",
   "execution_count": 340,
   "metadata": {},
   "outputs": [
    {
     "name": "stdout",
     "output_type": "stream",
     "text": [
      "Note: you may need to restart the kernel to use updated packages.\n"
     ]
    }
   ],
   "source": [
    "%pip install -q ipytest pytest\n",
    "\n",
    "import ipytest\n",
    "import pytest\n",
    "ipytest.autoconfig()"
   ]
  },
  {
   "cell_type": "code",
   "execution_count": 418,
   "metadata": {},
   "outputs": [
    {
     "name": "stdout",
     "output_type": "stream",
     "text": [
      "\u001b[32m.\u001b[0m\u001b[32m.\u001b[0m\u001b[32m.\u001b[0m\u001b[32m.\u001b[0m\u001b[32m.\u001b[0m\u001b[32m.\u001b[0m\u001b[32m.\u001b[0m\u001b[32m.\u001b[0m\u001b[32m.\u001b[0m\u001b[32m.\u001b[0m\u001b[32m                                                                                   [100%]\u001b[0m\n",
      "\u001b[32m\u001b[32m\u001b[1m10 passed\u001b[0m\u001b[32m in 0.04s\u001b[0m\u001b[0m\n"
     ]
    }
   ],
   "source": [
    "%%ipytest\n",
    "\n",
    "matrix1 = Matrix([1, 2, 3], [4, 5, 6])\n",
    "matrix2 = Matrix([6, 5, 4], [3, 2, 1])\n",
    "\n",
    "@pytest.mark.parametrize(\"matrix1,matrix2\", [[matrix1, matrix2]])\n",
    "def test_matrix_add_matrix(matrix1: Matrix, matrix2: Matrix):\n",
    "    assert (\n",
    "        (matrix1 + matrix2 == (np.array(matrix1.matrix) + np.array(matrix2.matrix))).all()\n",
    "    ), 'add section with matrices is not working right'\n",
    "\n",
    "@pytest.mark.parametrize(\"matrix1,number\", [[matrix1, 13.2]])\n",
    "def test_matrix_add_number(matrix1: Matrix, number: int | float):\n",
    "    assert (\n",
    "        (matrix1 + number == np.array(matrix1.matrix) + number).all()\n",
    "    ), 'add section with matrix and number is not working right'\n",
    "\n",
    "@pytest.mark.parametrize(\"matrix1,matrix2\", [[matrix1, matrix2]])\n",
    "def test_matrix_sub_matrix(matrix1: Matrix, matrix2: Matrix):\n",
    "    assert (\n",
    "        (matrix1 - matrix2 == np.array(matrix1.matrix) - np.array(matrix2.matrix)).all()\n",
    "    ), 'sub section with matrices is not working right'\n",
    "\n",
    "@pytest.mark.parametrize(\"matrix1,number\", [[matrix1, 12.2]])    \n",
    "def test_matrix_sub_number(matrix1: Matrix, number: int | float):\n",
    "    assert (\n",
    "        (matrix1 - number == np.array(matrix1.matrix) - number).all()\n",
    "    ), 'sub section with matrix and number is not working right'\n",
    "\n",
    "@pytest.mark.parametrize(\"matrix1\", [matrix1])    \n",
    "def test_matrix_transpose(matrix1: Matrix):\n",
    "    assert (\n",
    "        (matrix1.T().matrix == np.array(matrix1.matrix).T).all()\n",
    "    ), 'transpose section is not working right'\n",
    "    \n",
    "# -----------------------------------------\n",
    "\n",
    "@pytest.mark.parametrize(\"matrix1,matrix2\", [[matrix1, matrix2]])\n",
    "def test_matrix_mul_matrix(matrix1: Matrix, matrix2: Matrix):\n",
    "    assert (\n",
    "        (matrix1 * matrix2 == np.array(matrix1.matrix) * np.array(matrix2.matrix)).all()\n",
    "    ), 'mul section with matrices is not working right'\n",
    "\n",
    "@pytest.mark.parametrize(\"matrix1,number\", [[matrix1, 13]])\n",
    "def test_matrix_mul_number(matrix1: Matrix, number: int | float):\n",
    "    assert (\n",
    "        (matrix1 * number == np.array(matrix1.matrix) * number).all()\n",
    "    ), 'mul section with matrix and number is not working right'\n",
    "\n",
    "@pytest.mark.parametrize(\"matrix1,matrix2\", [[matrix1, matrix2]])    \n",
    "def test_matrix_div_matrix(matrix1: Matrix, matrix2: Matrix):\n",
    "    assert (\n",
    "        (matrix1 / matrix2 == np.array(matrix1.matrix) / np.array(matrix2.matrix)).all()\n",
    "    ), 'div section with matrices is not working right'\n",
    "\n",
    "@pytest.mark.parametrize(\"matrix1,number\", [[matrix1, 2]])    \n",
    "def test_matrix_div_number(matrix1: Matrix, number: int | float):\n",
    "    assert (\n",
    "        (matrix1 / number == np.array(matrix1.matrix) / number).all()\n",
    "    ), 'div section with matrix and number is not working right'\n",
    "\n",
    "@pytest.mark.parametrize(\"matrix1,matrix2\", [[matrix1, matrix2.T()]])    \n",
    "def test_matrix_matmul_matrix(matrix1: Matrix, matrix2: Matrix):\n",
    "    assert(\n",
    "        (matrix1 @ matrix2 == np.array(matrix1.matrix) @ np.array(matrix2.matrix)).all()\n",
    "    ), 'matmul section is not working right, and don\\'t forget about T() if needed'\n",
    "    \n",
    "    "
   ]
  },
  {
   "cell_type": "code",
   "execution_count": null,
   "metadata": {},
   "outputs": [],
   "source": []
  }
 ],
 "metadata": {
  "kernelspec": {
   "display_name": "Python 3",
   "language": "python",
   "name": "python3"
  },
  "language_info": {
   "codemirror_mode": {
    "name": "ipython",
    "version": 3
   },
   "file_extension": ".py",
   "mimetype": "text/x-python",
   "name": "python",
   "nbconvert_exporter": "python",
   "pygments_lexer": "ipython3",
   "version": "3.11.0"
  },
  "orig_nbformat": 4
 },
 "nbformat": 4,
 "nbformat_minor": 2
}
